{
 "cells": [
  {
   "cell_type": "markdown",
   "id": "14087e79-2cfe-461c-b4bc-4b0130c6e33e",
   "metadata": {},
   "source": [
    "***Proyek Analisis Data: AIR QUALITY***\n",
    "- **Nama:** STACYANA JESIKA SURIANTO\n",
    "- **Email:** stacyanajs42@gmail.com\n",
    "- **ID Dicoding:** stacyanajs42"
   ]
  },
  {
   "cell_type": "markdown",
   "id": "69526222-1081-4d50-88d7-c841186a153a",
   "metadata": {},
   "source": [
    "**Menentukan Pertanyaan Bisnis**\n",
    "1. stasiun mana yang memiliki rata-rata nilai pm2.5 tertinggi?\r\n",
    "2. stasiun mana yang memiliki rata-rata temperatur suhu terenda?h\r\n",
    "3. statiun mana yang paling sering mengalami hujan?"
   ]
  },
  {
   "cell_type": "markdown",
   "id": "ce04dd74-e9f1-4a54-b9a5-82bd358b19a4",
   "metadata": {},
   "source": [
    "**Import Semua Packages/Library yang Digunakan**"
   ]
  },
  {
   "cell_type": "code",
   "execution_count": 1,
   "id": "ad51c8b9-63b4-4f4f-b279-b0ead5f16109",
   "metadata": {},
   "outputs": [],
   "source": [
    "import numpy as np #Digunakan Untuk melakukan operasi matematis dan manipulasi array\n",
    "import pandas as pd #Berguna untuk mengatur, tabulasi dan manipulasi data dalam bentuk tabel\n",
    "import matplotlib.pyplot as plt # dipakai untuk membuat visualisasi data\n",
    "import glob #Digunakan untuk membaca atau mengelola file dalam direktori"
   ]
  },
  {
   "cell_type": "markdown",
   "id": "4cc82a37-662d-4075-bfca-ffb7e98e3294",
   "metadata": {},
   "source": [
    "**Data Wrangling**"
   ]
  },
  {
   "cell_type": "markdown",
   "id": "094e5380-1e2b-4c02-814f-ec226664e909",
   "metadata": {},
   "source": [
    "1. *Gathering Data*"
   ]
  },
  {
   "cell_type": "code",
   "execution_count": 2,
   "id": "affb21ea-38b9-4be6-9b26-d124f03985f4",
   "metadata": {},
   "outputs": [
    {
     "name": "stdout",
     "output_type": "stream",
     "text": [
      "Informasi data untuk stasiun: aotizhongxin\n",
      "   No  year  month  day  hour  PM2.5  PM10   SO2   NO2     CO    O3  TEMP  \\\n",
      "0   1  2013      3    1     0    4.0   4.0   4.0   7.0  300.0  77.0  -0.7   \n",
      "1   2  2013      3    1     1    8.0   8.0   4.0   7.0  300.0  77.0  -1.1   \n",
      "2   3  2013      3    1     2    7.0   7.0   5.0  10.0  300.0  73.0  -1.1   \n",
      "3   4  2013      3    1     3    6.0   6.0  11.0  11.0  300.0  72.0  -1.4   \n",
      "4   5  2013      3    1     4    3.0   3.0  12.0  12.0  300.0  72.0  -2.0   \n",
      "\n",
      "     PRES  DEWP  RAIN   wd  WSPM       station  \n",
      "0  1023.0 -18.8   0.0  NNW   4.4  Aotizhongxin  \n",
      "1  1023.2 -18.2   0.0    N   4.7  Aotizhongxin  \n",
      "2  1023.5 -18.2   0.0  NNW   5.6  Aotizhongxin  \n",
      "3  1024.5 -19.4   0.0   NW   3.1  Aotizhongxin  \n",
      "4  1025.2 -19.5   0.0    N   2.0  Aotizhongxin  \n",
      "\n",
      "\n",
      "Informasi data untuk stasiun: changping\n",
      "   No  year  month  day  hour  PM2.5  PM10   SO2   NO2     CO    O3  TEMP  \\\n",
      "0   1  2013      3    1     0    3.0   6.0  13.0   7.0  300.0  85.0  -2.3   \n",
      "1   2  2013      3    1     1    3.0   3.0   6.0   6.0  300.0  85.0  -2.5   \n",
      "2   3  2013      3    1     2    3.0   3.0  22.0  13.0  400.0  74.0  -3.0   \n",
      "3   4  2013      3    1     3    3.0   6.0  12.0   8.0  300.0  81.0  -3.6   \n",
      "4   5  2013      3    1     4    3.0   3.0  14.0   8.0  300.0  81.0  -3.5   \n",
      "\n",
      "     PRES  DEWP  RAIN   wd  WSPM    station  \n",
      "0  1020.8 -19.7   0.0    E   0.5  Changping  \n",
      "1  1021.3 -19.0   0.0  ENE   0.7  Changping  \n",
      "2  1021.3 -19.9   0.0  ENE   0.2  Changping  \n",
      "3  1021.8 -19.1   0.0  NNE   1.0  Changping  \n",
      "4  1022.3 -19.4   0.0    N   2.1  Changping  \n",
      "\n",
      "\n",
      "Informasi data untuk stasiun: dingling\n",
      "   No  year  month  day  hour  PM2.5  PM10  SO2  NO2     CO    O3  TEMP  \\\n",
      "0   1  2013      3    1     0    4.0   4.0  3.0  NaN  200.0  82.0  -2.3   \n",
      "1   2  2013      3    1     1    7.0   7.0  3.0  NaN  200.0  80.0  -2.5   \n",
      "2   3  2013      3    1     2    5.0   5.0  3.0  2.0  200.0  79.0  -3.0   \n",
      "3   4  2013      3    1     3    6.0   6.0  3.0  NaN  200.0  79.0  -3.6   \n",
      "4   5  2013      3    1     4    5.0   5.0  3.0  NaN  200.0  81.0  -3.5   \n",
      "\n",
      "     PRES  DEWP  RAIN   wd  WSPM   station  \n",
      "0  1020.8 -19.7   0.0    E   0.5  Dingling  \n",
      "1  1021.3 -19.0   0.0  ENE   0.7  Dingling  \n",
      "2  1021.3 -19.9   0.0  ENE   0.2  Dingling  \n",
      "3  1021.8 -19.1   0.0  NNE   1.0  Dingling  \n",
      "4  1022.3 -19.4   0.0    N   2.1  Dingling  \n",
      "\n",
      "\n",
      "Informasi data untuk stasiun: dongsi\n",
      "   No  year  month  day  hour  PM2.5  PM10  SO2   NO2     CO    O3  TEMP  \\\n",
      "0   1  2013      3    1     0    9.0   9.0  3.0  17.0  300.0  89.0  -0.5   \n",
      "1   2  2013      3    1     1    4.0   4.0  3.0  16.0  300.0  88.0  -0.7   \n",
      "2   3  2013      3    1     2    7.0   7.0  NaN  17.0  300.0  60.0  -1.2   \n",
      "3   4  2013      3    1     3    3.0   3.0  5.0  18.0    NaN   NaN  -1.4   \n",
      "4   5  2013      3    1     4    3.0   3.0  7.0   NaN  200.0  84.0  -1.9   \n",
      "\n",
      "     PRES  DEWP  RAIN   wd  WSPM station  \n",
      "0  1024.5 -21.4   0.0  NNW   5.7  Dongsi  \n",
      "1  1025.1 -22.1   0.0   NW   3.9  Dongsi  \n",
      "2  1025.3 -24.6   0.0  NNW   5.3  Dongsi  \n",
      "3  1026.2 -25.5   0.0    N   4.9  Dongsi  \n",
      "4  1027.1 -24.5   0.0  NNW   3.2  Dongsi  \n",
      "\n",
      "\n",
      "Informasi data untuk stasiun: guanyuan\n",
      "   No  year  month  day  hour  PM2.5  PM10   SO2   NO2     CO    O3  TEMP  \\\n",
      "0   1  2013      3    1     0    4.0   4.0  14.0  20.0  300.0  69.0  -0.7   \n",
      "1   2  2013      3    1     1    4.0   4.0  13.0  17.0  300.0  72.0  -1.1   \n",
      "2   3  2013      3    1     2    3.0   3.0  10.0  19.0  300.0  69.0  -1.1   \n",
      "3   4  2013      3    1     3    3.0   6.0   7.0  24.0  400.0  62.0  -1.4   \n",
      "4   5  2013      3    1     4    3.0   6.0   5.0  14.0  400.0  71.0  -2.0   \n",
      "\n",
      "     PRES  DEWP  RAIN   wd  WSPM   station  \n",
      "0  1023.0 -18.8   0.0  NNW   4.4  Guanyuan  \n",
      "1  1023.2 -18.2   0.0    N   4.7  Guanyuan  \n",
      "2  1023.5 -18.2   0.0  NNW   5.6  Guanyuan  \n",
      "3  1024.5 -19.4   0.0   NW   3.1  Guanyuan  \n",
      "4  1025.2 -19.5   0.0    N   2.0  Guanyuan  \n",
      "\n",
      "\n",
      "Informasi data untuk stasiun: gucheng\n",
      "   No  year  month  day  hour  PM2.5  PM10  SO2  NO2     CO    O3  TEMP  \\\n",
      "0   1  2013      3    1     0    6.0  18.0  5.0  NaN  800.0  88.0   0.1   \n",
      "1   2  2013      3    1     1    6.0  15.0  5.0  NaN  800.0  88.0  -0.3   \n",
      "2   3  2013      3    1     2    5.0  18.0  NaN  NaN  700.0  52.0  -0.7   \n",
      "3   4  2013      3    1     3    6.0  20.0  6.0  NaN    NaN   NaN  -1.0   \n",
      "4   5  2013      3    1     4    5.0  17.0  5.0  NaN  600.0  73.0  -1.3   \n",
      "\n",
      "     PRES  DEWP  RAIN   wd  WSPM  station  \n",
      "0  1021.1 -18.6   0.0   NW   4.4  Gucheng  \n",
      "1  1021.5 -19.0   0.0   NW   4.0  Gucheng  \n",
      "2  1021.5 -19.8   0.0  WNW   4.6  Gucheng  \n",
      "3  1022.7 -21.2   0.0    W   2.8  Gucheng  \n",
      "4  1023.0 -21.4   0.0  WNW   3.6  Gucheng  \n",
      "\n",
      "\n",
      "Informasi data untuk stasiun: huairou\n",
      "   No  year  month  day  hour  PM2.5  PM10  SO2  NO2     CO    O3  TEMP  \\\n",
      "0   1  2013      3    1     0    7.0   7.0  3.0  2.0  100.0  91.0  -2.3   \n",
      "1   2  2013      3    1     1    4.0   4.0  3.0  NaN  100.0  92.0  -2.7   \n",
      "2   3  2013      3    1     2    4.0   4.0  NaN  NaN  100.0  91.0  -3.2   \n",
      "3   4  2013      3    1     3    3.0   3.0  3.0  2.0    NaN   NaN  -3.3   \n",
      "4   5  2013      3    1     4    3.0   3.0  7.0  NaN  300.0  86.0  -4.1   \n",
      "\n",
      "     PRES  DEWP  RAIN   wd  WSPM  station  \n",
      "0  1020.3 -20.7   0.0  WNW   3.1  Huairou  \n",
      "1  1020.8 -20.5   0.0  NNW   1.5  Huairou  \n",
      "2  1020.6 -21.4   0.0   NW   1.8  Huairou  \n",
      "3  1021.3 -23.7   0.0  NNW   2.4  Huairou  \n",
      "4  1022.1 -22.7   0.0  NNW   2.2  Huairou  \n",
      "\n",
      "\n",
      "Informasi data untuk stasiun: nongzhanguan\n",
      "   No  year  month  day  hour  PM2.5  PM10  SO2   NO2     CO    O3  TEMP  \\\n",
      "0   1  2013      3    1     0    5.0  14.0  4.0  12.0  200.0  85.0  -0.5   \n",
      "1   2  2013      3    1     1    8.0  12.0  6.0  14.0  200.0  84.0  -0.7   \n",
      "2   3  2013      3    1     2    3.0   6.0  5.0  14.0  200.0  83.0  -1.2   \n",
      "3   4  2013      3    1     3    5.0   5.0  5.0  14.0  200.0  84.0  -1.4   \n",
      "4   5  2013      3    1     4    5.0   5.0  6.0  21.0  200.0  77.0  -1.9   \n",
      "\n",
      "     PRES  DEWP  RAIN   wd  WSPM       station  \n",
      "0  1024.5 -21.4   0.0  NNW   5.7  Nongzhanguan  \n",
      "1  1025.1 -22.1   0.0   NW   3.9  Nongzhanguan  \n",
      "2  1025.3 -24.6   0.0  NNW   5.3  Nongzhanguan  \n",
      "3  1026.2 -25.5   0.0    N   4.9  Nongzhanguan  \n",
      "4  1027.1 -24.5   0.0  NNW   3.2  Nongzhanguan  \n",
      "\n",
      "\n",
      "Informasi data untuk stasiun: shunyi\n",
      "   No  year  month  day  hour  PM2.5  PM10  SO2  NO2     CO    O3  TEMP  \\\n",
      "0   1  2013      3    1     0    3.0   6.0  3.0  8.0  300.0  44.0  -0.9   \n",
      "1   2  2013      3    1     1   12.0  12.0  3.0  7.0  300.0  47.0  -1.1   \n",
      "2   3  2013      3    1     2   14.0  14.0  NaN  7.0  200.0  22.0  -1.7   \n",
      "3   4  2013      3    1     3   12.0  12.0  3.0  5.0    NaN   NaN  -2.1   \n",
      "4   5  2013      3    1     4   12.0  12.0  3.0  NaN  200.0  11.0  -2.4   \n",
      "\n",
      "     PRES  DEWP  RAIN  wd  WSPM station  \n",
      "0  1025.8 -20.5   0.0  NW   9.3  Shunyi  \n",
      "1  1026.1 -21.3   0.0  NW   9.4  Shunyi  \n",
      "2  1026.2 -23.0   0.0  NW   8.6  Shunyi  \n",
      "3  1027.3 -23.3   0.0  NW   6.6  Shunyi  \n",
      "4  1027.7 -22.9   0.0  NW   4.5  Shunyi  \n",
      "\n",
      "\n",
      "Informasi data untuk stasiun: tiantan\n",
      "   No  year  month  day  hour  PM2.5  PM10  SO2   NO2     CO    O3  TEMP  \\\n",
      "0   1  2013      3    1     0    6.0   6.0  4.0   8.0  300.0  81.0  -0.5   \n",
      "1   2  2013      3    1     1    6.0  29.0  5.0   9.0  300.0  80.0  -0.7   \n",
      "2   3  2013      3    1     2    6.0   6.0  4.0  12.0  300.0  75.0  -1.2   \n",
      "3   4  2013      3    1     3    6.0   6.0  4.0  12.0  300.0  74.0  -1.4   \n",
      "4   5  2013      3    1     4    5.0   5.0  7.0  15.0  400.0  70.0  -1.9   \n",
      "\n",
      "     PRES  DEWP  RAIN   wd  WSPM  station  \n",
      "0  1024.5 -21.4   0.0  NNW   5.7  Tiantan  \n",
      "1  1025.1 -22.1   0.0   NW   3.9  Tiantan  \n",
      "2  1025.3 -24.6   0.0  NNW   5.3  Tiantan  \n",
      "3  1026.2 -25.5   0.0    N   4.9  Tiantan  \n",
      "4  1027.1 -24.5   0.0  NNW   3.2  Tiantan  \n",
      "\n",
      "\n",
      "Informasi data untuk stasiun: wanliu\n",
      "   No  year  month  day  hour  PM2.5  PM10  SO2   NO2     CO    O3  TEMP  \\\n",
      "0   1  2013      3    1     0    8.0   8.0  6.0  28.0  400.0  52.0  -0.7   \n",
      "1   2  2013      3    1     1    9.0   9.0  6.0  28.0  400.0  50.0  -1.1   \n",
      "2   3  2013      3    1     2    3.0   6.0  NaN  19.0  400.0  55.0  -1.1   \n",
      "3   4  2013      3    1     3   11.0  30.0  8.0  14.0    NaN   NaN  -1.4   \n",
      "4   5  2013      3    1     4    3.0  13.0  9.0   NaN  300.0  54.0  -2.0   \n",
      "\n",
      "     PRES  DEWP  RAIN   wd  WSPM station  \n",
      "0  1023.0 -18.8   0.0  NNW   4.4  Wanliu  \n",
      "1  1023.2 -18.2   0.0    N   4.7  Wanliu  \n",
      "2  1023.5 -18.2   0.0  NNW   5.6  Wanliu  \n",
      "3  1024.5 -19.4   0.0   NW   3.1  Wanliu  \n",
      "4  1025.2 -19.5   0.0    N   2.0  Wanliu  \n",
      "\n",
      "\n",
      "Informasi data untuk stasiun: wanshouxigong\n",
      "   No  year  month  day  hour  PM2.5  PM10  SO2   NO2     CO    O3  TEMP  \\\n",
      "0   1  2013      3    1     0    9.0   9.0  6.0  17.0  200.0  62.0   0.3   \n",
      "1   2  2013      3    1     1   11.0  11.0  7.0  14.0  200.0  66.0  -0.1   \n",
      "2   3  2013      3    1     2    8.0   8.0  NaN  16.0  200.0  59.0  -0.6   \n",
      "3   4  2013      3    1     3    8.0   8.0  3.0  16.0    NaN   NaN  -0.7   \n",
      "4   5  2013      3    1     4    8.0   8.0  3.0   NaN  300.0  36.0  -0.9   \n",
      "\n",
      "     PRES  DEWP  RAIN   wd  WSPM        station  \n",
      "0  1021.9 -19.0   0.0  WNW   2.0  Wanshouxigong  \n",
      "1  1022.4 -19.3   0.0  WNW   4.4  Wanshouxigong  \n",
      "2  1022.6 -19.7   0.0  WNW   4.7  Wanshouxigong  \n",
      "3  1023.5 -20.9   0.0   NW   2.6  Wanshouxigong  \n",
      "4  1024.1 -21.7   0.0  WNW   2.5  Wanshouxigong  \n",
      "\n",
      "\n"
     ]
    }
   ],
   "source": [
    "import pandas as pd\n",
    "import glob\n",
    "\n",
    "# Menentukan pola nama file yang dicari\n",
    "file_pattern = 'PRSA_Data_*_20130301-20170228.csv'\n",
    "file_paths = glob.glob('dataset/' + file_pattern)\n",
    "\n",
    "# Mendapatkan nama stasiun dari setiap file\n",
    "stations = [path.split('_')[2].lower() for path in file_paths]\n",
    "\n",
    "# Mengumpulkan data dari setiap stasiun ke dalam dictionary\n",
    "data = {}\n",
    "for station, path in zip(stations, file_paths):\n",
    "    data[station] = pd.read_csv(path)\n",
    "\n",
    "# Menampilkan ringkasan data untuk setiap stasiun\n",
    "for station, df in data.items():\n",
    "    print(f\"Informasi data untuk stasiun: {station}\")\n",
    "    print(df.head())  # Menampilkan 5 baris pertama dari setiap DataFrame\n",
    "    print(\"\\n\")"
   ]
  },
  {
   "cell_type": "code",
   "execution_count": 3,
   "id": "922df684-5f85-4360-bc08-2e3d81fc51a8",
   "metadata": {},
   "outputs": [],
   "source": [
    "# Membuat DataFrame dari variabel \"data\"\n",
    "aotizhongxin_df = data['aotizhongxin']\n",
    "changping_df = data['changping']\n",
    "dingling_df = data['dingling']\n",
    "dongsi_df = data['dongsi']\n",
    "guanyuan_df = data['guanyuan']\n",
    "gucheng_df = data['gucheng']\n",
    "huairou_df = data['huairou']\n",
    "nongzhanguan_df = data['nongzhanguan']\n",
    "shunyi_df = data['shunyi']\n",
    "tiantan_df = data['tiantan']\n",
    "wanliu_df = data['wanliu']\n",
    "wanshouxigong_df = data['wanshouxigong']\n"
   ]
  },
  {
   "cell_type": "code",
   "execution_count": 4,
   "id": "00c44c49-4c7a-4840-aa2a-834fdb472037",
   "metadata": {},
   "outputs": [],
   "source": [
    "# Menggabungkan dataframe dari setiap lokasi menjadi satu dataframe gabungan\n",
    "data = pd.concat([aotizhongxin_df, changping_df, dingling_df, dongsi_df, guanyuan_df, gucheng_df, huairou_df, nongzhanguan_df, shunyi_df, tiantan_df, wanliu_df, wanshouxigong_df], ignore_index=True)\n"
   ]
  },
  {
   "cell_type": "code",
   "execution_count": 5,
   "id": "f246b438-6869-4175-a262-ca3e91b9af52",
   "metadata": {},
   "outputs": [
    {
     "data": {
      "text/html": [
       "<div>\n",
       "<style scoped>\n",
       "    .dataframe tbody tr th:only-of-type {\n",
       "        vertical-align: middle;\n",
       "    }\n",
       "\n",
       "    .dataframe tbody tr th {\n",
       "        vertical-align: top;\n",
       "    }\n",
       "\n",
       "    .dataframe thead th {\n",
       "        text-align: right;\n",
       "    }\n",
       "</style>\n",
       "<table border=\"1\" class=\"dataframe\">\n",
       "  <thead>\n",
       "    <tr style=\"text-align: right;\">\n",
       "      <th></th>\n",
       "      <th>No</th>\n",
       "      <th>year</th>\n",
       "      <th>month</th>\n",
       "      <th>day</th>\n",
       "      <th>hour</th>\n",
       "      <th>PM2.5</th>\n",
       "      <th>PM10</th>\n",
       "      <th>SO2</th>\n",
       "      <th>NO2</th>\n",
       "      <th>CO</th>\n",
       "      <th>O3</th>\n",
       "      <th>TEMP</th>\n",
       "      <th>PRES</th>\n",
       "      <th>DEWP</th>\n",
       "      <th>RAIN</th>\n",
       "      <th>wd</th>\n",
       "      <th>WSPM</th>\n",
       "      <th>station</th>\n",
       "    </tr>\n",
       "  </thead>\n",
       "  <tbody>\n",
       "    <tr>\n",
       "      <th>0</th>\n",
       "      <td>1</td>\n",
       "      <td>2013</td>\n",
       "      <td>3</td>\n",
       "      <td>1</td>\n",
       "      <td>0</td>\n",
       "      <td>4.0</td>\n",
       "      <td>4.0</td>\n",
       "      <td>4.0</td>\n",
       "      <td>7.0</td>\n",
       "      <td>300.0</td>\n",
       "      <td>77.0</td>\n",
       "      <td>-0.7</td>\n",
       "      <td>1023.0</td>\n",
       "      <td>-18.8</td>\n",
       "      <td>0.0</td>\n",
       "      <td>NNW</td>\n",
       "      <td>4.4</td>\n",
       "      <td>Aotizhongxin</td>\n",
       "    </tr>\n",
       "    <tr>\n",
       "      <th>1</th>\n",
       "      <td>2</td>\n",
       "      <td>2013</td>\n",
       "      <td>3</td>\n",
       "      <td>1</td>\n",
       "      <td>1</td>\n",
       "      <td>8.0</td>\n",
       "      <td>8.0</td>\n",
       "      <td>4.0</td>\n",
       "      <td>7.0</td>\n",
       "      <td>300.0</td>\n",
       "      <td>77.0</td>\n",
       "      <td>-1.1</td>\n",
       "      <td>1023.2</td>\n",
       "      <td>-18.2</td>\n",
       "      <td>0.0</td>\n",
       "      <td>N</td>\n",
       "      <td>4.7</td>\n",
       "      <td>Aotizhongxin</td>\n",
       "    </tr>\n",
       "    <tr>\n",
       "      <th>2</th>\n",
       "      <td>3</td>\n",
       "      <td>2013</td>\n",
       "      <td>3</td>\n",
       "      <td>1</td>\n",
       "      <td>2</td>\n",
       "      <td>7.0</td>\n",
       "      <td>7.0</td>\n",
       "      <td>5.0</td>\n",
       "      <td>10.0</td>\n",
       "      <td>300.0</td>\n",
       "      <td>73.0</td>\n",
       "      <td>-1.1</td>\n",
       "      <td>1023.5</td>\n",
       "      <td>-18.2</td>\n",
       "      <td>0.0</td>\n",
       "      <td>NNW</td>\n",
       "      <td>5.6</td>\n",
       "      <td>Aotizhongxin</td>\n",
       "    </tr>\n",
       "    <tr>\n",
       "      <th>3</th>\n",
       "      <td>4</td>\n",
       "      <td>2013</td>\n",
       "      <td>3</td>\n",
       "      <td>1</td>\n",
       "      <td>3</td>\n",
       "      <td>6.0</td>\n",
       "      <td>6.0</td>\n",
       "      <td>11.0</td>\n",
       "      <td>11.0</td>\n",
       "      <td>300.0</td>\n",
       "      <td>72.0</td>\n",
       "      <td>-1.4</td>\n",
       "      <td>1024.5</td>\n",
       "      <td>-19.4</td>\n",
       "      <td>0.0</td>\n",
       "      <td>NW</td>\n",
       "      <td>3.1</td>\n",
       "      <td>Aotizhongxin</td>\n",
       "    </tr>\n",
       "    <tr>\n",
       "      <th>4</th>\n",
       "      <td>5</td>\n",
       "      <td>2013</td>\n",
       "      <td>3</td>\n",
       "      <td>1</td>\n",
       "      <td>4</td>\n",
       "      <td>3.0</td>\n",
       "      <td>3.0</td>\n",
       "      <td>12.0</td>\n",
       "      <td>12.0</td>\n",
       "      <td>300.0</td>\n",
       "      <td>72.0</td>\n",
       "      <td>-2.0</td>\n",
       "      <td>1025.2</td>\n",
       "      <td>-19.5</td>\n",
       "      <td>0.0</td>\n",
       "      <td>N</td>\n",
       "      <td>2.0</td>\n",
       "      <td>Aotizhongxin</td>\n",
       "    </tr>\n",
       "  </tbody>\n",
       "</table>\n",
       "</div>"
      ],
      "text/plain": [
       "   No  year  month  day  hour  PM2.5  PM10   SO2   NO2     CO    O3  TEMP  \\\n",
       "0   1  2013      3    1     0    4.0   4.0   4.0   7.0  300.0  77.0  -0.7   \n",
       "1   2  2013      3    1     1    8.0   8.0   4.0   7.0  300.0  77.0  -1.1   \n",
       "2   3  2013      3    1     2    7.0   7.0   5.0  10.0  300.0  73.0  -1.1   \n",
       "3   4  2013      3    1     3    6.0   6.0  11.0  11.0  300.0  72.0  -1.4   \n",
       "4   5  2013      3    1     4    3.0   3.0  12.0  12.0  300.0  72.0  -2.0   \n",
       "\n",
       "     PRES  DEWP  RAIN   wd  WSPM       station  \n",
       "0  1023.0 -18.8   0.0  NNW   4.4  Aotizhongxin  \n",
       "1  1023.2 -18.2   0.0    N   4.7  Aotizhongxin  \n",
       "2  1023.5 -18.2   0.0  NNW   5.6  Aotizhongxin  \n",
       "3  1024.5 -19.4   0.0   NW   3.1  Aotizhongxin  \n",
       "4  1025.2 -19.5   0.0    N   2.0  Aotizhongxin  "
      ]
     },
     "execution_count": 5,
     "metadata": {},
     "output_type": "execute_result"
    }
   ],
   "source": [
    "#menampilkan 5 data teratas\n",
    "data.head()"
   ]
  },
  {
   "cell_type": "code",
   "execution_count": 6,
   "id": "c75b980c-6a2d-47dc-afe6-413e251f4e5b",
   "metadata": {},
   "outputs": [
    {
     "data": {
      "text/html": [
       "<div>\n",
       "<style scoped>\n",
       "    .dataframe tbody tr th:only-of-type {\n",
       "        vertical-align: middle;\n",
       "    }\n",
       "\n",
       "    .dataframe tbody tr th {\n",
       "        vertical-align: top;\n",
       "    }\n",
       "\n",
       "    .dataframe thead th {\n",
       "        text-align: right;\n",
       "    }\n",
       "</style>\n",
       "<table border=\"1\" class=\"dataframe\">\n",
       "  <thead>\n",
       "    <tr style=\"text-align: right;\">\n",
       "      <th></th>\n",
       "      <th>No</th>\n",
       "      <th>year</th>\n",
       "      <th>month</th>\n",
       "      <th>day</th>\n",
       "      <th>hour</th>\n",
       "      <th>PM2.5</th>\n",
       "      <th>PM10</th>\n",
       "      <th>SO2</th>\n",
       "      <th>NO2</th>\n",
       "      <th>CO</th>\n",
       "      <th>O3</th>\n",
       "      <th>TEMP</th>\n",
       "      <th>PRES</th>\n",
       "      <th>DEWP</th>\n",
       "      <th>RAIN</th>\n",
       "      <th>wd</th>\n",
       "      <th>WSPM</th>\n",
       "      <th>station</th>\n",
       "    </tr>\n",
       "  </thead>\n",
       "  <tbody>\n",
       "    <tr>\n",
       "      <th>420763</th>\n",
       "      <td>35060</td>\n",
       "      <td>2017</td>\n",
       "      <td>2</td>\n",
       "      <td>28</td>\n",
       "      <td>19</td>\n",
       "      <td>11.0</td>\n",
       "      <td>32.0</td>\n",
       "      <td>3.0</td>\n",
       "      <td>24.0</td>\n",
       "      <td>400.0</td>\n",
       "      <td>72.0</td>\n",
       "      <td>12.5</td>\n",
       "      <td>1013.5</td>\n",
       "      <td>-16.2</td>\n",
       "      <td>0.0</td>\n",
       "      <td>NW</td>\n",
       "      <td>2.4</td>\n",
       "      <td>Wanshouxigong</td>\n",
       "    </tr>\n",
       "    <tr>\n",
       "      <th>420764</th>\n",
       "      <td>35061</td>\n",
       "      <td>2017</td>\n",
       "      <td>2</td>\n",
       "      <td>28</td>\n",
       "      <td>20</td>\n",
       "      <td>13.0</td>\n",
       "      <td>32.0</td>\n",
       "      <td>3.0</td>\n",
       "      <td>41.0</td>\n",
       "      <td>500.0</td>\n",
       "      <td>50.0</td>\n",
       "      <td>11.6</td>\n",
       "      <td>1013.6</td>\n",
       "      <td>-15.1</td>\n",
       "      <td>0.0</td>\n",
       "      <td>WNW</td>\n",
       "      <td>0.9</td>\n",
       "      <td>Wanshouxigong</td>\n",
       "    </tr>\n",
       "    <tr>\n",
       "      <th>420765</th>\n",
       "      <td>35062</td>\n",
       "      <td>2017</td>\n",
       "      <td>2</td>\n",
       "      <td>28</td>\n",
       "      <td>21</td>\n",
       "      <td>14.0</td>\n",
       "      <td>28.0</td>\n",
       "      <td>4.0</td>\n",
       "      <td>38.0</td>\n",
       "      <td>500.0</td>\n",
       "      <td>54.0</td>\n",
       "      <td>10.8</td>\n",
       "      <td>1014.2</td>\n",
       "      <td>-13.3</td>\n",
       "      <td>0.0</td>\n",
       "      <td>NW</td>\n",
       "      <td>1.1</td>\n",
       "      <td>Wanshouxigong</td>\n",
       "    </tr>\n",
       "    <tr>\n",
       "      <th>420766</th>\n",
       "      <td>35063</td>\n",
       "      <td>2017</td>\n",
       "      <td>2</td>\n",
       "      <td>28</td>\n",
       "      <td>22</td>\n",
       "      <td>12.0</td>\n",
       "      <td>23.0</td>\n",
       "      <td>4.0</td>\n",
       "      <td>30.0</td>\n",
       "      <td>400.0</td>\n",
       "      <td>59.0</td>\n",
       "      <td>10.5</td>\n",
       "      <td>1014.4</td>\n",
       "      <td>-12.9</td>\n",
       "      <td>0.0</td>\n",
       "      <td>NNW</td>\n",
       "      <td>1.2</td>\n",
       "      <td>Wanshouxigong</td>\n",
       "    </tr>\n",
       "    <tr>\n",
       "      <th>420767</th>\n",
       "      <td>35064</td>\n",
       "      <td>2017</td>\n",
       "      <td>2</td>\n",
       "      <td>28</td>\n",
       "      <td>23</td>\n",
       "      <td>13.0</td>\n",
       "      <td>19.0</td>\n",
       "      <td>4.0</td>\n",
       "      <td>38.0</td>\n",
       "      <td>600.0</td>\n",
       "      <td>49.0</td>\n",
       "      <td>8.6</td>\n",
       "      <td>1014.1</td>\n",
       "      <td>-15.9</td>\n",
       "      <td>0.0</td>\n",
       "      <td>NNE</td>\n",
       "      <td>1.3</td>\n",
       "      <td>Wanshouxigong</td>\n",
       "    </tr>\n",
       "  </tbody>\n",
       "</table>\n",
       "</div>"
      ],
      "text/plain": [
       "           No  year  month  day  hour  PM2.5  PM10  SO2   NO2     CO    O3  \\\n",
       "420763  35060  2017      2   28    19   11.0  32.0  3.0  24.0  400.0  72.0   \n",
       "420764  35061  2017      2   28    20   13.0  32.0  3.0  41.0  500.0  50.0   \n",
       "420765  35062  2017      2   28    21   14.0  28.0  4.0  38.0  500.0  54.0   \n",
       "420766  35063  2017      2   28    22   12.0  23.0  4.0  30.0  400.0  59.0   \n",
       "420767  35064  2017      2   28    23   13.0  19.0  4.0  38.0  600.0  49.0   \n",
       "\n",
       "        TEMP    PRES  DEWP  RAIN   wd  WSPM        station  \n",
       "420763  12.5  1013.5 -16.2   0.0   NW   2.4  Wanshouxigong  \n",
       "420764  11.6  1013.6 -15.1   0.0  WNW   0.9  Wanshouxigong  \n",
       "420765  10.8  1014.2 -13.3   0.0   NW   1.1  Wanshouxigong  \n",
       "420766  10.5  1014.4 -12.9   0.0  NNW   1.2  Wanshouxigong  \n",
       "420767   8.6  1014.1 -15.9   0.0  NNE   1.3  Wanshouxigong  "
      ]
     },
     "execution_count": 6,
     "metadata": {},
     "output_type": "execute_result"
    }
   ],
   "source": [
    "data.tail()"
   ]
  },
  {
   "cell_type": "code",
   "execution_count": 7,
   "id": "4e541f85-4ce0-4639-a5e1-9aab71ef003e",
   "metadata": {},
   "outputs": [
    {
     "data": {
      "text/plain": [
       "420768"
      ]
     },
     "execution_count": 7,
     "metadata": {},
     "output_type": "execute_result"
    }
   ],
   "source": [
    "#Memeriksa jumlah baris data\n",
    "len(data)"
   ]
  },
  {
   "cell_type": "markdown",
   "id": "18b55241-f08c-40e3-b6c4-80f2f97ee9de",
   "metadata": {},
   "source": [
    "Dapat dilihat bahwa jumlah data dari keseluruhan dataset yaitu berjumlah 420768 yang menandakan bahwa semua dataset telah berhasil digabungkan."
   ]
  },
  {
   "cell_type": "markdown",
   "id": "6dd81666-45d2-407d-8c6a-d920f5e55902",
   "metadata": {},
   "source": [
    "2. *Assesing Data*"
   ]
  },
  {
   "cell_type": "code",
   "execution_count": 8,
   "id": "72950342-473d-4cf6-96fc-3ce82cd5664f",
   "metadata": {},
   "outputs": [
    {
     "name": "stdout",
     "output_type": "stream",
     "text": [
      "<class 'pandas.core.frame.DataFrame'>\n",
      "RangeIndex: 420768 entries, 0 to 420767\n",
      "Data columns (total 18 columns):\n",
      " #   Column   Non-Null Count   Dtype  \n",
      "---  ------   --------------   -----  \n",
      " 0   No       420768 non-null  int64  \n",
      " 1   year     420768 non-null  int64  \n",
      " 2   month    420768 non-null  int64  \n",
      " 3   day      420768 non-null  int64  \n",
      " 4   hour     420768 non-null  int64  \n",
      " 5   PM2.5    412029 non-null  float64\n",
      " 6   PM10     414319 non-null  float64\n",
      " 7   SO2      411747 non-null  float64\n",
      " 8   NO2      408652 non-null  float64\n",
      " 9   CO       400067 non-null  float64\n",
      " 10  O3       407491 non-null  float64\n",
      " 11  TEMP     420370 non-null  float64\n",
      " 12  PRES     420375 non-null  float64\n",
      " 13  DEWP     420365 non-null  float64\n",
      " 14  RAIN     420378 non-null  float64\n",
      " 15  wd       418946 non-null  object \n",
      " 16  WSPM     420450 non-null  float64\n",
      " 17  station  420768 non-null  object \n",
      "dtypes: float64(11), int64(5), object(2)\n",
      "memory usage: 57.8+ MB\n"
     ]
    }
   ],
   "source": [
    "data.info()"
   ]
  },
  {
   "cell_type": "code",
   "execution_count": 9,
   "id": "51bc1493-76d1-46ef-a2d3-5a169853b92d",
   "metadata": {},
   "outputs": [
    {
     "data": {
      "text/plain": [
       "No             0\n",
       "year           0\n",
       "month          0\n",
       "day            0\n",
       "hour           0\n",
       "PM2.5       8739\n",
       "PM10        6449\n",
       "SO2         9021\n",
       "NO2        12116\n",
       "CO         20701\n",
       "O3         13277\n",
       "TEMP         398\n",
       "PRES         393\n",
       "DEWP         403\n",
       "RAIN         390\n",
       "wd          1822\n",
       "WSPM         318\n",
       "station        0\n",
       "dtype: int64"
      ]
     },
     "execution_count": 9,
     "metadata": {},
     "output_type": "execute_result"
    }
   ],
   "source": [
    "#Memeriksa missing values untuk tiap variabel\n",
    "data.isna().sum()"
   ]
  },
  {
   "cell_type": "markdown",
   "id": "5dbb75e0-5b58-4207-b8b6-cac3ee8a22df",
   "metadata": {},
   "source": [
    "Dari hasil tersebut, terlihat bahwa terdapat banyak data yang tidak lengkap. Oleh karena itu, langkah selanjutnya adalah melakukan imputasi dengan menggunakan nilai rata-rata untuk data yang hilang."
   ]
  },
  {
   "cell_type": "markdown",
   "id": "aac376d4-d315-4582-81fa-1175b45e0711",
   "metadata": {},
   "source": [
    "3. *Cleaning Data*"
   ]
  },
  {
   "cell_type": "code",
   "execution_count": 10,
   "id": "bc9fd024-0787-45af-ac14-000359dc36a0",
   "metadata": {},
   "outputs": [],
   "source": [
    "# Menghapus variabel 'no' dan 'wd' dari dataframe dikarnakan tidak terlalu penting dan tidak dibutuhkan dalam analisis data\n",
    "data.drop(['No', 'wd'], axis=1, inplace=True)\n"
   ]
  },
  {
   "cell_type": "code",
   "execution_count": 11,
   "id": "9322ea91-3b47-4720-bf5e-e610da08ff20",
   "metadata": {},
   "outputs": [],
   "source": [
    "# mengganti kolom 'year','month','day' kedalam bentuk datetime\n",
    "datetime = pd.to_datetime(data[['year', 'month', 'day', 'hour']])\n",
    "data.insert(loc=1, column='time', value=datetime)"
   ]
  },
  {
   "cell_type": "code",
   "execution_count": 12,
   "id": "8975684a-d552-4349-b4d8-3c09b78ed618",
   "metadata": {},
   "outputs": [
    {
     "data": {
      "text/html": [
       "<div>\n",
       "<style scoped>\n",
       "    .dataframe tbody tr th:only-of-type {\n",
       "        vertical-align: middle;\n",
       "    }\n",
       "\n",
       "    .dataframe tbody tr th {\n",
       "        vertical-align: top;\n",
       "    }\n",
       "\n",
       "    .dataframe thead th {\n",
       "        text-align: right;\n",
       "    }\n",
       "</style>\n",
       "<table border=\"1\" class=\"dataframe\">\n",
       "  <thead>\n",
       "    <tr style=\"text-align: right;\">\n",
       "      <th></th>\n",
       "      <th>year</th>\n",
       "      <th>time</th>\n",
       "      <th>month</th>\n",
       "      <th>day</th>\n",
       "      <th>hour</th>\n",
       "      <th>PM2.5</th>\n",
       "      <th>PM10</th>\n",
       "      <th>SO2</th>\n",
       "      <th>NO2</th>\n",
       "      <th>CO</th>\n",
       "      <th>O3</th>\n",
       "      <th>TEMP</th>\n",
       "      <th>PRES</th>\n",
       "      <th>DEWP</th>\n",
       "      <th>RAIN</th>\n",
       "      <th>WSPM</th>\n",
       "      <th>station</th>\n",
       "    </tr>\n",
       "  </thead>\n",
       "  <tbody>\n",
       "    <tr>\n",
       "      <th>0</th>\n",
       "      <td>2013</td>\n",
       "      <td>2013-03-01 00:00:00</td>\n",
       "      <td>3</td>\n",
       "      <td>1</td>\n",
       "      <td>0</td>\n",
       "      <td>4.0</td>\n",
       "      <td>4.0</td>\n",
       "      <td>4.0</td>\n",
       "      <td>7.0</td>\n",
       "      <td>300.0</td>\n",
       "      <td>77.0</td>\n",
       "      <td>-0.7</td>\n",
       "      <td>1023.0</td>\n",
       "      <td>-18.8</td>\n",
       "      <td>0.0</td>\n",
       "      <td>4.4</td>\n",
       "      <td>Aotizhongxin</td>\n",
       "    </tr>\n",
       "    <tr>\n",
       "      <th>1</th>\n",
       "      <td>2013</td>\n",
       "      <td>2013-03-01 01:00:00</td>\n",
       "      <td>3</td>\n",
       "      <td>1</td>\n",
       "      <td>1</td>\n",
       "      <td>8.0</td>\n",
       "      <td>8.0</td>\n",
       "      <td>4.0</td>\n",
       "      <td>7.0</td>\n",
       "      <td>300.0</td>\n",
       "      <td>77.0</td>\n",
       "      <td>-1.1</td>\n",
       "      <td>1023.2</td>\n",
       "      <td>-18.2</td>\n",
       "      <td>0.0</td>\n",
       "      <td>4.7</td>\n",
       "      <td>Aotizhongxin</td>\n",
       "    </tr>\n",
       "    <tr>\n",
       "      <th>2</th>\n",
       "      <td>2013</td>\n",
       "      <td>2013-03-01 02:00:00</td>\n",
       "      <td>3</td>\n",
       "      <td>1</td>\n",
       "      <td>2</td>\n",
       "      <td>7.0</td>\n",
       "      <td>7.0</td>\n",
       "      <td>5.0</td>\n",
       "      <td>10.0</td>\n",
       "      <td>300.0</td>\n",
       "      <td>73.0</td>\n",
       "      <td>-1.1</td>\n",
       "      <td>1023.5</td>\n",
       "      <td>-18.2</td>\n",
       "      <td>0.0</td>\n",
       "      <td>5.6</td>\n",
       "      <td>Aotizhongxin</td>\n",
       "    </tr>\n",
       "    <tr>\n",
       "      <th>3</th>\n",
       "      <td>2013</td>\n",
       "      <td>2013-03-01 03:00:00</td>\n",
       "      <td>3</td>\n",
       "      <td>1</td>\n",
       "      <td>3</td>\n",
       "      <td>6.0</td>\n",
       "      <td>6.0</td>\n",
       "      <td>11.0</td>\n",
       "      <td>11.0</td>\n",
       "      <td>300.0</td>\n",
       "      <td>72.0</td>\n",
       "      <td>-1.4</td>\n",
       "      <td>1024.5</td>\n",
       "      <td>-19.4</td>\n",
       "      <td>0.0</td>\n",
       "      <td>3.1</td>\n",
       "      <td>Aotizhongxin</td>\n",
       "    </tr>\n",
       "    <tr>\n",
       "      <th>4</th>\n",
       "      <td>2013</td>\n",
       "      <td>2013-03-01 04:00:00</td>\n",
       "      <td>3</td>\n",
       "      <td>1</td>\n",
       "      <td>4</td>\n",
       "      <td>3.0</td>\n",
       "      <td>3.0</td>\n",
       "      <td>12.0</td>\n",
       "      <td>12.0</td>\n",
       "      <td>300.0</td>\n",
       "      <td>72.0</td>\n",
       "      <td>-2.0</td>\n",
       "      <td>1025.2</td>\n",
       "      <td>-19.5</td>\n",
       "      <td>0.0</td>\n",
       "      <td>2.0</td>\n",
       "      <td>Aotizhongxin</td>\n",
       "    </tr>\n",
       "  </tbody>\n",
       "</table>\n",
       "</div>"
      ],
      "text/plain": [
       "   year                time  month  day  hour  PM2.5  PM10   SO2   NO2     CO  \\\n",
       "0  2013 2013-03-01 00:00:00      3    1     0    4.0   4.0   4.0   7.0  300.0   \n",
       "1  2013 2013-03-01 01:00:00      3    1     1    8.0   8.0   4.0   7.0  300.0   \n",
       "2  2013 2013-03-01 02:00:00      3    1     2    7.0   7.0   5.0  10.0  300.0   \n",
       "3  2013 2013-03-01 03:00:00      3    1     3    6.0   6.0  11.0  11.0  300.0   \n",
       "4  2013 2013-03-01 04:00:00      3    1     4    3.0   3.0  12.0  12.0  300.0   \n",
       "\n",
       "     O3  TEMP    PRES  DEWP  RAIN  WSPM       station  \n",
       "0  77.0  -0.7  1023.0 -18.8   0.0   4.4  Aotizhongxin  \n",
       "1  77.0  -1.1  1023.2 -18.2   0.0   4.7  Aotizhongxin  \n",
       "2  73.0  -1.1  1023.5 -18.2   0.0   5.6  Aotizhongxin  \n",
       "3  72.0  -1.4  1024.5 -19.4   0.0   3.1  Aotizhongxin  \n",
       "4  72.0  -2.0  1025.2 -19.5   0.0   2.0  Aotizhongxin  "
      ]
     },
     "execution_count": 12,
     "metadata": {},
     "output_type": "execute_result"
    }
   ],
   "source": [
    "data.head()"
   ]
  },
  {
   "cell_type": "markdown",
   "id": "54636a8e-2a92-461d-b9f8-18f53648df8a",
   "metadata": {},
   "source": [
    "Dapat dilihat dari hasil tersbut bahwa pada kolom year,month and day sudah dirubah kedalam bentuk date time"
   ]
  },
  {
   "cell_type": "code",
   "execution_count": 13,
   "id": "2bc61e2d-1da8-4546-a285-4414570100dc",
   "metadata": {},
   "outputs": [
    {
     "data": {
      "text/plain": [
       "year       0\n",
       "time       0\n",
       "month      0\n",
       "day        0\n",
       "hour       0\n",
       "PM2.5      0\n",
       "PM10       0\n",
       "SO2        0\n",
       "NO2        0\n",
       "CO         0\n",
       "O3         0\n",
       "TEMP       0\n",
       "PRES       0\n",
       "DEWP       0\n",
       "RAIN       0\n",
       "WSPM       0\n",
       "station    0\n",
       "dtype: int64"
      ]
     },
     "execution_count": 13,
     "metadata": {},
     "output_type": "execute_result"
    }
   ],
   "source": [
    "#Menghapus Missing value pada dataframe\n",
    "data.dropna(inplace=True)\n",
    "data.isna().sum()"
   ]
  },
  {
   "cell_type": "markdown",
   "id": "bb9a50bc-19c8-4391-b482-a1dc62508b79",
   "metadata": {},
   "source": [
    "**Exploratory Data Analysis (EDA)**"
   ]
  },
  {
   "cell_type": "code",
   "execution_count": null,
   "id": "d847fc41-3a6a-45db-9394-dbed5f95be6e",
   "metadata": {},
   "outputs": [],
   "source": [
    "*Explore ...*"
   ]
  },
  {
   "cell_type": "code",
   "execution_count": 14,
   "id": "a3026ade-6976-45f2-80f5-d2b160776cad",
   "metadata": {},
   "outputs": [
    {
     "data": {
      "text/html": [
       "<div>\n",
       "<style scoped>\n",
       "    .dataframe tbody tr th:only-of-type {\n",
       "        vertical-align: middle;\n",
       "    }\n",
       "\n",
       "    .dataframe tbody tr th {\n",
       "        vertical-align: top;\n",
       "    }\n",
       "\n",
       "    .dataframe thead th {\n",
       "        text-align: right;\n",
       "    }\n",
       "</style>\n",
       "<table border=\"1\" class=\"dataframe\">\n",
       "  <thead>\n",
       "    <tr style=\"text-align: right;\">\n",
       "      <th></th>\n",
       "      <th>year</th>\n",
       "      <th>time</th>\n",
       "      <th>month</th>\n",
       "      <th>day</th>\n",
       "      <th>hour</th>\n",
       "      <th>PM2.5</th>\n",
       "      <th>PM10</th>\n",
       "      <th>SO2</th>\n",
       "      <th>NO2</th>\n",
       "      <th>CO</th>\n",
       "      <th>O3</th>\n",
       "      <th>TEMP</th>\n",
       "      <th>PRES</th>\n",
       "      <th>DEWP</th>\n",
       "      <th>RAIN</th>\n",
       "      <th>WSPM</th>\n",
       "    </tr>\n",
       "  </thead>\n",
       "  <tbody>\n",
       "    <tr>\n",
       "      <th>count</th>\n",
       "      <td>383585.000000</td>\n",
       "      <td>383585</td>\n",
       "      <td>383585.000000</td>\n",
       "      <td>383585.000000</td>\n",
       "      <td>383585.000000</td>\n",
       "      <td>383585.000000</td>\n",
       "      <td>383585.000000</td>\n",
       "      <td>383585.000000</td>\n",
       "      <td>383585.000000</td>\n",
       "      <td>383585.000000</td>\n",
       "      <td>383585.000000</td>\n",
       "      <td>383585.000000</td>\n",
       "      <td>383585.000000</td>\n",
       "      <td>383585.000000</td>\n",
       "      <td>383585.000000</td>\n",
       "      <td>383585.000000</td>\n",
       "    </tr>\n",
       "    <tr>\n",
       "      <th>mean</th>\n",
       "      <td>2014.719288</td>\n",
       "      <td>2015-03-20 18:35:58.779931136</td>\n",
       "      <td>6.476617</td>\n",
       "      <td>15.715286</td>\n",
       "      <td>11.572379</td>\n",
       "      <td>79.523931</td>\n",
       "      <td>104.643039</td>\n",
       "      <td>15.622388</td>\n",
       "      <td>50.625569</td>\n",
       "      <td>1231.862104</td>\n",
       "      <td>57.241318</td>\n",
       "      <td>13.493708</td>\n",
       "      <td>1010.828913</td>\n",
       "      <td>2.414531</td>\n",
       "      <td>0.064898</td>\n",
       "      <td>1.732421</td>\n",
       "    </tr>\n",
       "    <tr>\n",
       "      <th>min</th>\n",
       "      <td>2013.000000</td>\n",
       "      <td>2013-03-01 00:00:00</td>\n",
       "      <td>1.000000</td>\n",
       "      <td>1.000000</td>\n",
       "      <td>0.000000</td>\n",
       "      <td>2.000000</td>\n",
       "      <td>2.000000</td>\n",
       "      <td>0.285600</td>\n",
       "      <td>2.000000</td>\n",
       "      <td>100.000000</td>\n",
       "      <td>0.214200</td>\n",
       "      <td>-19.900000</td>\n",
       "      <td>982.400000</td>\n",
       "      <td>-36.000000</td>\n",
       "      <td>0.000000</td>\n",
       "      <td>0.000000</td>\n",
       "    </tr>\n",
       "    <tr>\n",
       "      <th>25%</th>\n",
       "      <td>2014.000000</td>\n",
       "      <td>2014-04-06 13:00:00</td>\n",
       "      <td>3.000000</td>\n",
       "      <td>8.000000</td>\n",
       "      <td>6.000000</td>\n",
       "      <td>20.000000</td>\n",
       "      <td>36.000000</td>\n",
       "      <td>2.000000</td>\n",
       "      <td>23.000000</td>\n",
       "      <td>500.000000</td>\n",
       "      <td>10.000000</td>\n",
       "      <td>3.100000</td>\n",
       "      <td>1002.400000</td>\n",
       "      <td>-9.000000</td>\n",
       "      <td>0.000000</td>\n",
       "      <td>0.900000</td>\n",
       "    </tr>\n",
       "    <tr>\n",
       "      <th>50%</th>\n",
       "      <td>2015.000000</td>\n",
       "      <td>2015-03-27 16:00:00</td>\n",
       "      <td>6.000000</td>\n",
       "      <td>16.000000</td>\n",
       "      <td>12.000000</td>\n",
       "      <td>55.000000</td>\n",
       "      <td>82.000000</td>\n",
       "      <td>7.000000</td>\n",
       "      <td>43.000000</td>\n",
       "      <td>900.000000</td>\n",
       "      <td>45.000000</td>\n",
       "      <td>14.400000</td>\n",
       "      <td>1010.400000</td>\n",
       "      <td>2.900000</td>\n",
       "      <td>0.000000</td>\n",
       "      <td>1.400000</td>\n",
       "    </tr>\n",
       "    <tr>\n",
       "      <th>75%</th>\n",
       "      <td>2016.000000</td>\n",
       "      <td>2016-03-11 23:00:00</td>\n",
       "      <td>9.000000</td>\n",
       "      <td>23.000000</td>\n",
       "      <td>18.000000</td>\n",
       "      <td>111.000000</td>\n",
       "      <td>145.000000</td>\n",
       "      <td>19.000000</td>\n",
       "      <td>71.000000</td>\n",
       "      <td>1500.000000</td>\n",
       "      <td>82.000000</td>\n",
       "      <td>23.200000</td>\n",
       "      <td>1019.000000</td>\n",
       "      <td>15.100000</td>\n",
       "      <td>0.000000</td>\n",
       "      <td>2.200000</td>\n",
       "    </tr>\n",
       "    <tr>\n",
       "      <th>max</th>\n",
       "      <td>2017.000000</td>\n",
       "      <td>2017-02-28 23:00:00</td>\n",
       "      <td>12.000000</td>\n",
       "      <td>31.000000</td>\n",
       "      <td>23.000000</td>\n",
       "      <td>844.000000</td>\n",
       "      <td>999.000000</td>\n",
       "      <td>500.000000</td>\n",
       "      <td>290.000000</td>\n",
       "      <td>10000.000000</td>\n",
       "      <td>1071.000000</td>\n",
       "      <td>41.600000</td>\n",
       "      <td>1042.800000</td>\n",
       "      <td>29.100000</td>\n",
       "      <td>72.500000</td>\n",
       "      <td>13.200000</td>\n",
       "    </tr>\n",
       "    <tr>\n",
       "      <th>std</th>\n",
       "      <td>1.161406</td>\n",
       "      <td>NaN</td>\n",
       "      <td>3.451968</td>\n",
       "      <td>8.801871</td>\n",
       "      <td>6.939440</td>\n",
       "      <td>80.205852</td>\n",
       "      <td>91.389334</td>\n",
       "      <td>21.290076</td>\n",
       "      <td>35.081258</td>\n",
       "      <td>1158.872753</td>\n",
       "      <td>56.675282</td>\n",
       "      <td>11.426799</td>\n",
       "      <td>10.451198</td>\n",
       "      <td>13.790993</td>\n",
       "      <td>0.822480</td>\n",
       "      <td>1.242827</td>\n",
       "    </tr>\n",
       "  </tbody>\n",
       "</table>\n",
       "</div>"
      ],
      "text/plain": [
       "                year                           time          month  \\\n",
       "count  383585.000000                         383585  383585.000000   \n",
       "mean     2014.719288  2015-03-20 18:35:58.779931136       6.476617   \n",
       "min      2013.000000            2013-03-01 00:00:00       1.000000   \n",
       "25%      2014.000000            2014-04-06 13:00:00       3.000000   \n",
       "50%      2015.000000            2015-03-27 16:00:00       6.000000   \n",
       "75%      2016.000000            2016-03-11 23:00:00       9.000000   \n",
       "max      2017.000000            2017-02-28 23:00:00      12.000000   \n",
       "std         1.161406                            NaN       3.451968   \n",
       "\n",
       "                 day           hour          PM2.5           PM10  \\\n",
       "count  383585.000000  383585.000000  383585.000000  383585.000000   \n",
       "mean       15.715286      11.572379      79.523931     104.643039   \n",
       "min         1.000000       0.000000       2.000000       2.000000   \n",
       "25%         8.000000       6.000000      20.000000      36.000000   \n",
       "50%        16.000000      12.000000      55.000000      82.000000   \n",
       "75%        23.000000      18.000000     111.000000     145.000000   \n",
       "max        31.000000      23.000000     844.000000     999.000000   \n",
       "std         8.801871       6.939440      80.205852      91.389334   \n",
       "\n",
       "                 SO2            NO2             CO             O3  \\\n",
       "count  383585.000000  383585.000000  383585.000000  383585.000000   \n",
       "mean       15.622388      50.625569    1231.862104      57.241318   \n",
       "min         0.285600       2.000000     100.000000       0.214200   \n",
       "25%         2.000000      23.000000     500.000000      10.000000   \n",
       "50%         7.000000      43.000000     900.000000      45.000000   \n",
       "75%        19.000000      71.000000    1500.000000      82.000000   \n",
       "max       500.000000     290.000000   10000.000000    1071.000000   \n",
       "std        21.290076      35.081258    1158.872753      56.675282   \n",
       "\n",
       "                TEMP           PRES           DEWP           RAIN  \\\n",
       "count  383585.000000  383585.000000  383585.000000  383585.000000   \n",
       "mean       13.493708    1010.828913       2.414531       0.064898   \n",
       "min       -19.900000     982.400000     -36.000000       0.000000   \n",
       "25%         3.100000    1002.400000      -9.000000       0.000000   \n",
       "50%        14.400000    1010.400000       2.900000       0.000000   \n",
       "75%        23.200000    1019.000000      15.100000       0.000000   \n",
       "max        41.600000    1042.800000      29.100000      72.500000   \n",
       "std        11.426799      10.451198      13.790993       0.822480   \n",
       "\n",
       "                WSPM  \n",
       "count  383585.000000  \n",
       "mean        1.732421  \n",
       "min         0.000000  \n",
       "25%         0.900000  \n",
       "50%         1.400000  \n",
       "75%         2.200000  \n",
       "max        13.200000  \n",
       "std         1.242827  "
      ]
     },
     "execution_count": 14,
     "metadata": {},
     "output_type": "execute_result"
    }
   ],
   "source": [
    "#Menampilkan data statistic deskriptif\n",
    "data.describe()"
   ]
  },
  {
   "cell_type": "code",
   "execution_count": 15,
   "id": "b1466610-a21c-42a9-9a90-844dbf862087",
   "metadata": {},
   "outputs": [
    {
     "data": {
      "text/plain": [
       "12"
      ]
     },
     "execution_count": 15,
     "metadata": {},
     "output_type": "execute_result"
    }
   ],
   "source": [
    "#Menghitung jumlah nilai unik yang terdapat dalam kolom 'station'\n",
    "data['station'].nunique()"
   ]
  },
  {
   "cell_type": "markdown",
   "id": "ef22adfa-2e55-4a20-a545-de10badc9585",
   "metadata": {},
   "source": [
    "dapat dilihat bahwa jumlah stasiun dari dataset terebut terdapat 12 stasiun yang berbeda "
   ]
  },
  {
   "cell_type": "code",
   "execution_count": 16,
   "id": "e46b680c-95ae-44da-bda5-8fcb7450cd22",
   "metadata": {},
   "outputs": [
    {
     "data": {
      "text/plain": [
       "station\n",
       "Nongzhanguan     33176\n",
       "Tiantan          32907\n",
       "Wanshouxigong    32829\n",
       "Changping        32774\n",
       "Gucheng          32615\n",
       "Guanyuan         32328\n",
       "Huairou          31955\n",
       "Aotizhongxin     31876\n",
       "Dingling         31399\n",
       "Wanliu           30737\n",
       "Shunyi           30587\n",
       "Dongsi           30402\n",
       "Name: count, dtype: int64"
      ]
     },
     "execution_count": 16,
     "metadata": {},
     "output_type": "execute_result"
    }
   ],
   "source": [
    "#Menghitung jumlah kemunculan setiap nilai yang terdapat dalam kolom 'station'\n",
    "data['station'].value_counts()"
   ]
  },
  {
   "cell_type": "markdown",
   "id": "f9933b14-317c-408b-8644-bad909cb3e02",
   "metadata": {},
   "source": [
    "dapat diluhat bahwa jumlah data pada setiap stasiun itu berbeda-beda misal pada stasiun Nongzhanguan terdapat 33.176 data, juga pada stasiun Tiantan terdapat 32.907 data, dan seterusnya..."
   ]
  },
  {
   "cell_type": "markdown",
   "id": "002f3bc0-9eb4-4c16-adbe-d4b4d3cda6ff",
   "metadata": {},
   "source": [
    "**Visualization & Explanatory Analysis**"
   ]
  },
  {
   "cell_type": "markdown",
   "id": "6e4d167d-1d6e-4c83-abc7-4c3670aa2979",
   "metadata": {},
   "source": [
    "**Pertanyaan 1:**\n",
    "**1. stasiun mana yang memiliki rata-rata nilai pm2.5 tertinggi?**\n"
   ]
  },
  {
   "cell_type": "code",
   "execution_count": 24,
   "id": "b5e0a539-1ec7-4f90-babe-b847a8df6b5d",
   "metadata": {},
   "outputs": [
    {
     "data": {
      "text/plain": [
       "station\n",
       "Aotizhongxin     81.883436\n",
       "Changping        70.423482\n",
       "Dingling         66.616609\n",
       "Dongsi           84.980103\n",
       "Guanyuan         83.122160\n",
       "Gucheng          83.949539\n",
       "Huairou          70.435550\n",
       "Nongzhanguan     84.746745\n",
       "Shunyi           79.960686\n",
       "Tiantan          81.767192\n",
       "Wanliu           81.990923\n",
       "Wanshouxigong    84.273432\n",
       "Name: PM25, dtype: float64"
      ]
     },
     "execution_count": 24,
     "metadata": {},
     "output_type": "execute_result"
    }
   ],
   "source": [
    "#Mengganti nama Kolom PM2.5\n",
    "data = data.rename(columns={'PM2.5': 'PM25'})\n",
    "\n",
    "#Mengelompokkan data pada atribut Station dan diambil nilai rata-ratanya\n",
    "PM25_Station = data.groupby('station')['PM25'].mean()\n",
    "PM25_Station"
   ]
  },
  {
   "cell_type": "markdown",
   "id": "145013ec-4e51-4917-81d5-8a31c997bd33",
   "metadata": {},
   "source": [
    "Pada tahap ini dilakukan penggantian nama pada atribut PM2.5 menjadi PM25 dikarnakan dengan nama atribut tersebut tidak bisa digunakan karna berbentuk desimal, dan juga data dikelompokkan berdasarkan nilai unik dalam kolom 'station', kemudian diambil rata-rata konsentrasi partikel PM2.5 ('PM25') untuk setiap stasiun. ini berlaku untuk pertanyaan pertama yaitu stasiun mana yang memiliki rata-rata nilai pm2.5 tertinggi?"
   ]
  },
  {
   "cell_type": "code",
   "execution_count": 25,
   "id": "20c2bd9c-4ce0-45f2-9dc9-4c671e489a22",
   "metadata": {},
   "outputs": [
    {
     "data": {
      "image/png": "[encoded data removed]",
      "text/plain": [
       "<Figure size 1400x600 with 1 Axes>"
      ]
     },
     "metadata": {},
     "output_type": "display_data"
    }
   ],
   "source": [
    "plt.figure(figsize=(14, 6))\n",
    "PM25_Station.plot(kind='bar', color='red')\n",
    "plt.title('Rata-rata nilai PM2.5 untuk tiap stasiun')\n",
    "plt.xlabel('Stasiun')\n",
    "plt.ylabel('Rata-rata nilai pm2.5')\n",
    "plt.xticks(rotation=0)\n",
    "plt.grid(axis='y')\n",
    "plt.show()"
   ]
  },
  {
   "cell_type": "markdown",
   "id": "988d6b99-b0a9-479b-9502-7bf845f84757",
   "metadata": {},
   "source": [
    "dari hasil visualisasi pada gambar tersebut dapat dilihat stasiun yang memiliki rata-rata nilai PM2.5 tertinggi adalah **Dongsi**, dengan nilai sekitar 84.9 dibanding dengan Stasiun-stasiun lainnya memiliki nilai yang lebih rendah, dengan beberapa di antaranya berada di kisaran 70. oleh karna itu kulitas udara yang paling buruk di antara stasiun lainnya adalah stasiun Dongsi. Dan yang paling baik kualitas udara nya adalah stasiun **Dingling** yang memiliki nilai rata-rata PM2.5 paling rendah.\r\n"
   ]
  },
  {
   "cell_type": "markdown",
   "id": "a7057d84-d879-4cde-9895-4ce1a8772efc",
   "metadata": {},
   "source": [
    "**Pertanyaan 2:**\n",
    "**2. stasiun mana yang memiliki rata-rata temperatur suhu terendah?**"
   ]
  },
  {
   "cell_type": "code",
   "execution_count": 19,
   "id": "2c88d46c-f3d0-486b-8f74-0ca8440befde",
   "metadata": {},
   "outputs": [
    {
     "data": {
      "text/plain": [
       "station\n",
       "Aotizhongxin     13.761152\n",
       "Changping        13.381660\n",
       "Dingling         13.534851\n",
       "Dongsi           13.605465\n",
       "Guanyuan         13.690581\n",
       "Gucheng          13.915530\n",
       "Huairou          12.245551\n",
       "Nongzhanguan     13.682296\n",
       "Shunyi           12.705959\n",
       "Tiantan          13.615483\n",
       "Wanliu           13.993603\n",
       "Wanshouxigong    13.758290\n",
       "Name: TEMP, dtype: float64"
      ]
     },
     "execution_count": 19,
     "metadata": {},
     "output_type": "execute_result"
    }
   ],
   "source": [
    "Temp_Station = data.groupby('station')['TEMP'].mean()\n",
    "Temp_Station"
   ]
  },
  {
   "cell_type": "code",
   "execution_count": 45,
   "id": "98f0d5e3-08ce-49a2-b8ac-f055e19d0a3a",
   "metadata": {},
   "outputs": [
    {
     "data": {
      "text/plain": [
       "12.245551178120024"
      ]
     },
     "execution_count": 45,
     "metadata": {},
     "output_type": "execute_result"
    }
   ],
   "source": [
    "Temp_Station.min()"
   ]
  },
  {
   "cell_type": "code",
   "execution_count": 26,
   "id": "3d2371c2-d434-4378-a2ab-3e84a9b8d7a9",
   "metadata": {},
   "outputs": [
    {
     "data": {
      "image/png": "[encoded data removed]",
      "text/plain": [
       "<Figure size 1400x600 with 1 Axes>"
      ]
     },
     "metadata": {},
     "output_type": "display_data"
    }
   ],
   "source": [
    "plt.figure(figsize=(14, 6))\n",
    "Temp_Station.plot(kind='bar', color='red')\n",
    "plt.title('Rata-rata nilai Temperatur untuk tiap stasiun')\n",
    "plt.xlabel('Stasiun')\n",
    "plt.ylabel('Rata-rata nilai Temperatur')\n",
    "plt.xticks(rotation=0)\n",
    "plt.grid(axis='y')\n",
    "plt.show()"
   ]
  },
  {
   "cell_type": "markdown",
   "id": "99f162f3-40fa-45fc-97ca-87e83d60caf0",
   "metadata": {},
   "source": [
    "Dapat dilihat dari hasil visualisasi gambar diatas yang menunjukan temperatur suhu pada tiap stasiun yang menunjukkan bahwa nilai rata-rata temperatur paling rendah berada di stasiun Huairou dengan rata-rata 12.24 celcius yang dimana ini berhbungan dengan kualitas PM2.5 Biasanya pada suhu rendah dapat meningkatkan konsentrasi partikel PM2.5 dalam udara. "
   ]
  },
  {
   "cell_type": "markdown",
   "id": "9d98c755-c7f8-4782-871e-360f11e59f07",
   "metadata": {},
   "source": [
    "**Pertanyaan 3:**\n",
    "**3. statiun mana yang paling sering mengalami hujan?**"
   ]
  },
  {
   "cell_type": "code",
   "execution_count": 21,
   "id": "d8b393d1-c765-4110-81c7-4a17eb99ffff",
   "metadata": {},
   "outputs": [
    {
     "data": {
      "text/plain": [
       "station\n",
       "Aotizhongxin     0.068108\n",
       "Changping        0.060844\n",
       "Dingling         0.062496\n",
       "Dongsi           0.061443\n",
       "Guanyuan         0.069240\n",
       "Gucheng          0.065945\n",
       "Huairou          0.066847\n",
       "Nongzhanguan     0.066771\n",
       "Shunyi           0.054566\n",
       "Tiantan          0.065457\n",
       "Wanliu           0.074448\n",
       "Wanshouxigong    0.062347\n",
       "Name: RAIN, dtype: float64"
      ]
     },
     "execution_count": 21,
     "metadata": {},
     "output_type": "execute_result"
    }
   ],
   "source": [
    "Rain_station = data.groupby('station')['RAIN'].mean()\n",
    "Rain_station"
   ]
  },
  {
   "cell_type": "code",
   "execution_count": 46,
   "id": "8b5d7a8c-c816-4691-b2f3-6d8d88993790",
   "metadata": {},
   "outputs": [
    {
     "data": {
      "text/plain": [
       "0.07444773400136644"
      ]
     },
     "execution_count": 46,
     "metadata": {},
     "output_type": "execute_result"
    }
   ],
   "source": [
    "Rain_station.max()"
   ]
  },
  {
   "cell_type": "code",
   "execution_count": 47,
   "id": "b0f8193a-6e50-4f77-9c74-6b16b3bb0bee",
   "metadata": {},
   "outputs": [
    {
     "data": {
      "image/png": "[encoded data removed]",
      "text/plain": [
       "<Figure size 1400x600 with 1 Axes>"
      ]
     },
     "metadata": {},
     "output_type": "display_data"
    }
   ],
   "source": [
    "plt.figure(figsize=(14, 6))\n",
    "Rain_station.plot(kind='bar', color='red')\n",
    "plt.title('Rata-rata curah hujan untuk tiap stasiun')\n",
    "plt.xlabel('Stasiun')\n",
    "plt.ylabel('Curah hujan')\n",
    "plt.xticks(rotation=0)\n",
    "plt.grid(axis='y')\n",
    "plt.show()"
   ]
  },
  {
   "cell_type": "markdown",
   "id": "95dca26f-230e-4dd2-a003-1bb4120cbb22",
   "metadata": {},
   "source": [
    "Dapat dilihat pada visualisasi gambar diatas bahwa station yang paling sering mengalami hujan adalah stasiun wangliu dengan rata-rata 0.07 dengan nilai tertinggi dibandingkan dengan station lainnya."
   ]
  },
  {
   "cell_type": "markdown",
   "id": "43c4a026-b7ed-4ff0-9c8a-8e6f95cb8158",
   "metadata": {},
   "source": [
    "***Conclution***"
   ]
  },
  {
   "cell_type": "markdown",
   "id": "63858657-39fd-4df5-8ccc-fbf5f3c3b415",
   "metadata": {},
   "source": [
    "1. keimpulan pertanyaan pertama : stasiun mana yang memiliki rata-rata nilai pm2.5 tertinggi?\n",
    "   dapat dilihat dari hasil visualisasi data bahwa stasiun yang memiliki rata-rata nilai PM2.5 tertinggi adalah **Dongsi**, dengan nilai sekitar 84.9 dibanding dengan Stasiun-stasiun lainnya memiliki nilai yang lebih rendah, dengan beberapa di antaranya berada di kisaran 70. oleh karna itu kulitas udara yang paling buruk di antara stasiun lainnya adalah stasiun Dongsi. Dan yang paling baik kualitas udara nya adalah stasiun **Dingling** yang memiliki nilai rata-rata PM2.5 paling rendah. hal ini sangat penting untuk diketahui, dikarenakan bahwa Konsentrasi partikel PM2.5 yang tinggi dalam udara dapat memiliki dampak buruk bagi kesehatan manusia. Paparan jangka panjang terhadap partikel PM2.5 dapat menyebabkan berbagai masalah kesehatan, termasuk gangguan pernapasan, iritasi mata, meningkatkan risiko penyakit jantung dan paru-paru, dan penyakit lainnya.Oleh karena itu, penting untuk memantau dan mengendalikan konsentrasi partikel PM2.5 dalam udara, terutama pada kondisi cuaca yang dapat meningkatkan konsentrasi tersebut, seperti saat suhu rendah.\n",
    "\n",
    "2. kesimpulan pertanyaan ke dua : stasiun mana yang memiliki rata-rata temperatur suhu terendah?\n",
    "   dari hasil visualisasi gambar menunjukan temperatur suhu pada tiap stasiun yang menunjukkan bahwa nilai rata-rata temperatur paling rendah berada di stasiun Huairou dengan rata-rata 12.24 celcius yang dimana ini berhbungan dengan kualitas PM2.5, dikarenakan Pada umumnya, pada suhu rendah, konsentrasi partikel PM2.5 dalam udara cenderung meningkat. Hal ini disebabkan oleh aktivitas pembakaran yang lebih intensif untuk pemanasan dan kegiatan lainnya pada saat suhu dingin. Selain itu, kondisi dispersi udara yang buruk pada suhu rendah juga dapat menyebabkan partikel PM2.5 lebih lama bertahan di udara dan tidak tersebar dengan baik, sehingga meningkatkan konsentrasinya.\n",
    "\n",
    "3. kesimpulan pertanyaan ke tiga : statiun mana yang paling sering mengalami hujan?\n",
    "   dari hasil visualisasi gambar dapat dismpulkan bahwa station yang paling sering mengalami hujan adalah stasiun wangliu dengan rata-rata 0.07 dengan nilai tertinggi dibandingkan dengan station lainnya.Hal ini menandakan daerah ini yang paling sering mengalami hujan dibandingkan dengan daerah-daerah stasiun lainya. hal ini juga berhubungan dengan kualitas PM2.5 pada suatu daerah dikarenakan dengan curah hujan yang tinggi dapat membantu meminimalisir konsentrasi partikel PM2.5 dalam udara. Curah hujan dapat berperan sebagai \"pembersih\" udara alami dengan mengikat partikel-partikel PM2.5 dalam udara dan membawanya ke tanah. Sehingga, ketika hujan turun, partikel-partikel tersebut akan terendapkan dan udara menjadi lebih bersih.\n",
    "   \n"
   ]
  },
  {
   "cell_type": "code",
   "execution_count": 48,
   "id": "3bee8ca2-c0d1-4690-9363-13133f974760",
   "metadata": {},
   "outputs": [],
   "source": [
    "df.to_csv(\"all_data.csv\", index=False)"
   ]
  }
 ],
 "metadata": {
  "kernelspec": {
   "display_name": "Python 3",
   "language": "python",
   "name": "python3"
  },
  "language_info": {
   "codemirror_mode": {
    "name": "ipython",
    "version": 3
   },
   "file_extension": ".py",
   "mimetype": "text/x-python",
   "name": "python",
   "nbconvert_exporter": "python",
   "pygments_lexer": "ipython3",
   "version": "3.11.4"
  }
 },
 "nbformat": 4,
 "nbformat_minor": 5
}
